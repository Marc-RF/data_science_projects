{
 "cells": [
  {
   "cell_type": "markdown",
   "metadata": {},
   "source": [
    "# Investigating Airplane Accidents\n",
    "\n",
    "## Introduction\n",
    "\n",
    "Accidents are an unfortunate fact of air travel. Although flying is statistically safer than driving, minor and major flying accidents occur daily. In this project, we'll work with a data set of airplane accident statistics to analyze patterns and look for any common threads.\n",
    "\n",
    "We'll be working with a data set that contains 77,282 aviation accidents that occurred in the U.S., and the metadata associated with them. The data in our **AviationData.txt** file comes from the National Transportation Safety Board (NTSB). You can download the file at [data.gov](http://catalog.data.gov/dataset/aviation-data-and-documentation-from-the-ntsb-accident-database-system-05748/resource/4b1e95fe-91a7-4112-85fa-424d2672a906).\n",
    "\n",
    "The file isn't in CSV format as it separates the fields with a pipe character (|) instead.\n",
    "\n",
    "## Columns description\n",
    "\n",
    "- **Event Id** - The unique id for the incident\n",
    "- **Investigation Type** - The type of investigation the NTSB conducted\n",
    "- **Event Date** - The date of the accident\n",
    "- **Location** - Where the accident occurred\n",
    "- **Country** - The country where the accident occurred\n",
    "- **Latitude** - The latitude where the accident occurred\n",
    "- **Longitude** - The longitude where the accident occurred\n",
    "- **Injury Severity** - The severity of any injuries\n",
    "- **Aircraft Damage** - The extent of the damage to the aircraft\n",
    "- **Aircraft Category** - The type of aircraft\n",
    "- **Make** - The make of the aircraft\n",
    "- **Model** - The model of the aircraft\n",
    "- **Number of Engines** - The number of engines on the plane\n",
    "- **Air Carrier** - The carrier operating the aircraft\n",
    "- **Total Fatal Injuries** - The number of fatal injuries\n",
    "- **Total Serious Injuries** - The number of serious injuries\n",
    "- **Total Minor Injuries** - The number of minor injuries\n",
    "- **Total Uninjured** - The number of people who did not sustain injuries\n",
    "- **Broad Phase of Flight** - The phase of flight during which the accident occurred\n",
    "\n",
    "## Importing packages and reading dataset"
   ]
  },
  {
   "cell_type": "code",
   "execution_count": 1,
   "metadata": {},
   "outputs": [],
   "source": [
    "import pandas as pd\n",
    "import numpy as np\n",
    "import matplotlib.pyplot as plt\n",
    "\n",
    "%matplotlib inline\n",
    "pd.options.display.max_columns = 999"
   ]
  },
  {
   "cell_type": "code",
   "execution_count": 2,
   "metadata": {},
   "outputs": [],
   "source": [
    "# Approach not using pandas but list of lists\n",
    "aviation_data = open(\"my_datasets/AviationData.txt\")\n",
    "aviation_data = aviation_data.read().splitlines()\n",
    "aviation_list = []\n",
    "for line in aviation_data:\n",
    "    splitted_line = line.split(\" | \")\n",
    "    aviation_list.append(splitted_line[:-1])"
   ]
  },
  {
   "cell_type": "code",
   "execution_count": 3,
   "metadata": {},
   "outputs": [
    {
     "name": "stdout",
     "output_type": "stream",
     "text": [
      "[['20001218X45447', 'Accident', 'LAX94LA336', '07/19/1962', 'BRIDGEPORT, CA', 'United States', '', '', '', '', 'Fatal(4)', 'Destroyed', '', 'N5069P', 'PIPER', 'PA24-180', 'No', '1', 'Reciprocating', '', '', 'Personal', '', '4', '0', '0', '0', 'UNK', 'UNKNOWN', 'Probable Cause', '09/19/1996']]\n"
     ]
    }
   ],
   "source": [
    "#Searching LAX94LA336, can be anywhere\n",
    "lax_code=[]\n",
    "\n",
    "for row in aviation_list:\n",
    "    for cell in row:\n",
    "        if cell == \"LAX94LA336\":\n",
    "            lax_code.append(row)\n",
    "\n",
    "print(lax_code)"
   ]
  },
  {
   "cell_type": "markdown",
   "metadata": {},
   "source": [
    "- Were there any downsides to the approach you just took to search through AviationData.txt?\n",
    "\n",
    "    - This search is a O(m·n) time consuming algorithm. We need to look at all the rows in the file to find the matches.\n",
    "    \n",
    "## Linear Algorithm\n",
    "\n",
    "As we know **LAX94LA336** is in column 3, we can perform a linear search checking this field instead of the whole row:"
   ]
  },
  {
   "cell_type": "code",
   "execution_count": 4,
   "metadata": {},
   "outputs": [
    {
     "name": "stdout",
     "output_type": "stream",
     "text": [
      "[['20001218X45447', 'Accident', 'LAX94LA336', '07/19/1962', 'BRIDGEPORT, CA', 'United States', '', '', '', '', 'Fatal(4)', 'Destroyed', '', 'N5069P', 'PIPER', 'PA24-180', 'No', '1', 'Reciprocating', '', '', 'Personal', '', '4', '0', '0', '0', 'UNK', 'UNKNOWN', 'Probable Cause', '09/19/1996']]\n"
     ]
    }
   ],
   "source": [
    "#Searching LAX94LA336, in column 3\n",
    "lax_code=[]\n",
    "\n",
    "for row in aviation_list:\n",
    "    if row[2] == \"LAX94LA336\":\n",
    "        lax_code.append(row)\n",
    "\n",
    "print(lax_code)"
   ]
  },
  {
   "cell_type": "markdown",
   "metadata": {},
   "source": [
    "## Logarithmic Algorithm\n",
    "\n",
    "For a logarithmic algorithm, we should first sort the rows by column 3 (index=2) so that we can perform **binary search**."
   ]
  },
  {
   "cell_type": "code",
   "execution_count": 5,
   "metadata": {},
   "outputs": [
    {
     "name": "stdout",
     "output_type": "stream",
     "text": [
      "[['20001218X45447', 'Accident', 'LAX94LA336', '07/19/1962', 'BRIDGEPORT, CA', 'United States', '', '', '', '', 'Fatal(4)', 'Destroyed', '', 'N5069P', 'PIPER', 'PA24-180', 'No', '1', 'Reciprocating', '', '', 'Personal', '', '4', '0', '0', '0', 'UNK', 'UNKNOWN', 'Probable Cause', '09/19/1996']]\n"
     ]
    }
   ],
   "source": [
    "def binary_search(target, input_list, target_column):\n",
    "    sorted_list = input_list.copy()\n",
    "    sorted_list.sort(key = lambda x: x[target_column])\n",
    "    \n",
    "    lower_bound = 0\n",
    "    upper_bound = len(sorted_list) - 1\n",
    "    index = (lower_bound+upper_bound)//2\n",
    "    guess = sorted_list[index][target_column]\n",
    "\n",
    "    while (guess != target) and (lower_bound <= upper_bound):\n",
    "        if target < guess:\n",
    "            upper_bound = index - 1\n",
    "        elif target > guess:\n",
    "            lower_bound = index + 1\n",
    "        index = (lower_bound+upper_bound)//2\n",
    "        guess = sorted_list[index][target_column]\n",
    "    if guess == target:\n",
    "        return sorted_list[index]\n",
    "    else:\n",
    "        return -1\n",
    "\n",
    "lax_code=[]\n",
    "\n",
    "lax_code.append(binary_search(\"LAX94LA336\", aviation_list, 2))\n",
    "\n",
    "print(lax_code)"
   ]
  },
  {
   "cell_type": "markdown",
   "metadata": {},
   "source": [
    "The counterparts from linear and logarithmic algorithms are:\n",
    "- Linear: We must know beforehand in which column we must search\n",
    "- Logarithmic: The list must be sorted to apply binary search.\n",
    "\n",
    "## Hash Tables\n",
    "\n",
    "We can also work with the aviation_list as a list of dictionaries."
   ]
  },
  {
   "cell_type": "code",
   "execution_count": 6,
   "metadata": {},
   "outputs": [],
   "source": [
    "aviation_dict_list = []\n",
    "\n",
    "aviation_list_keys  = aviation_list[0]\n",
    "aviation_list_values = aviation_list[1:]\n",
    "\n",
    "for values in aviation_list_values:\n",
    "    dictionary = dict(zip(aviation_list_keys, values))\n",
    "    aviation_dict_list.append(dictionary)"
   ]
  },
  {
   "cell_type": "code",
   "execution_count": 7,
   "metadata": {},
   "outputs": [
    {
     "name": "stdout",
     "output_type": "stream",
     "text": [
      "[{'Event Id': '20001218X45447', 'Investigation Type': 'Accident', 'Accident Number': 'LAX94LA336', 'Event Date': '07/19/1962', 'Location': 'BRIDGEPORT, CA', 'Country': 'United States', 'Latitude': '', 'Longitude': '', 'Airport Code': '', 'Airport Name': '', 'Injury Severity': 'Fatal(4)', 'Aircraft Damage': 'Destroyed', 'Aircraft Category': '', 'Registration Number': 'N5069P', 'Make': 'PIPER', 'Model': 'PA24-180', 'Amateur Built': 'No', 'Number of Engines': '1', 'Engine Type': 'Reciprocating', 'FAR Description': '', 'Schedule': '', 'Purpose of Flight': 'Personal', 'Air Carrier': '', 'Total Fatal Injuries': '4', 'Total Serious Injuries': '0', 'Total Minor Injuries': '0', 'Total Uninjured': '0', 'Weather Condition': 'UNK', 'Broad Phase of Flight': 'UNKNOWN', 'Report Status': 'Probable Cause', 'Publication Date': '09/19/1996'}]\n"
     ]
    }
   ],
   "source": [
    "# Search through aviation_dict_list for LAX94LA336. This value could be in any key in any dictionary.\n",
    "lax_dict = []\n",
    "for entry in aviation_dict_list:\n",
    "    for key in entry:\n",
    "        if entry[key] == \"LAX94LA336\":\n",
    "            lax_dict.append(entry)\n",
    "print(lax_dict)"
   ]
  },
  {
   "cell_type": "markdown",
   "metadata": {},
   "source": [
    "- Was it harder or easier to search through a list of dictionaries than a list of lists? \n",
    "    - It's a bit more complex, as we must first convert the list to dictionaries and later iterate considering keys. \n",
    "    \n",
    "## Accidents by U.S. State\n",
    "\n",
    "We'll count how many accidents occurred in each U.S. state, then determine which state had the most accidents overall."
   ]
  },
  {
   "cell_type": "code",
   "execution_count": 8,
   "metadata": {},
   "outputs": [
    {
     "name": "stdout",
     "output_type": "stream",
     "text": [
      "ANCHORAGE, AK\n"
     ]
    }
   ],
   "source": [
    "state_accidents = {}\n",
    "\n",
    "for entry in aviation_dict_list:\n",
    "    state = entry[\"Location\"]\n",
    "    if state in state_accidents:\n",
    "        state_accidents[state] += 1\n",
    "    else:\n",
    "        state_accidents[state] = 1\n",
    "\n",
    "most_accidented_state = max(state_accidents, key=state_accidents.get)\n",
    "print(most_accidented_state)"
   ]
  },
  {
   "cell_type": "markdown",
   "metadata": {},
   "source": [
    "## Fatalities and Injuries by Month\n",
    "\n",
    "We can also count how many fatalities and serious injuries occurred during each month."
   ]
  },
  {
   "cell_type": "code",
   "execution_count": 16,
   "metadata": {},
   "outputs": [
    {
     "name": "stdout",
     "output_type": "stream",
     "text": [
      "{'09': 723990, '08': 962040, '07': 1251730, '06': 587410, '05': 773150, '04': 477880, '03': 359270, '02': 583570, '01': 337440, '12': 911470, '11': 997650, '10': 719620}\n"
     ]
    }
   ],
   "source": [
    "monthly_injuries = {}\n",
    "\n",
    "for line in aviation_dict_list:\n",
    "    month = line[\"Event Date\"].split(\"/\")[0]\n",
    "    if month == \"\":\n",
    "        continue\n",
    "    fatal_inj = int(line[\"Total Fatal Injuries\"].replace(\"\",\"0\"))\n",
    "    serious_inj = int(line[\"Total Serious Injuries\"].replace(\"\",\"0\"))\n",
    "    total_inj = fatal_inj + serious_inj\n",
    "    if month in monthly_injuries:\n",
    "        monthly_injuries[month] += total_inj\n",
    "    else:\n",
    "        monthly_injuries[month] = total_inj\n",
    "\n",
    "print(monthly_injuries)"
   ]
  },
  {
   "cell_type": "code",
   "execution_count": 17,
   "metadata": {},
   "outputs": [
    {
     "data": {
      "text/plain": [
       "07    1251730\n",
       "11     997650\n",
       "08     962040\n",
       "12     911470\n",
       "05     773150\n",
       "09     723990\n",
       "10     719620\n",
       "06     587410\n",
       "02     583570\n",
       "04     477880\n",
       "03     359270\n",
       "01     337440\n",
       "dtype: int64"
      ]
     },
     "execution_count": 17,
     "metadata": {},
     "output_type": "execute_result"
    }
   ],
   "source": [
    "monthly_injuries_series = pd.Series(monthly_injuries).sort_values(ascending=False)\n",
    "monthly_injuries_series"
   ]
  },
  {
   "cell_type": "code",
   "execution_count": 19,
   "metadata": {},
   "outputs": [
    {
     "data": {
      "text/plain": [
       "<matplotlib.axes._subplots.AxesSubplot at 0x28106615630>"
      ]
     },
     "execution_count": 19,
     "metadata": {},
     "output_type": "execute_result"
    },
    {
     "data": {
      "image/png": "[encoded data removed]",
      "text/plain": [
       "<Figure size 432x288 with 1 Axes>"
      ]
     },
     "metadata": {
      "needs_background": "light"
     },
     "output_type": "display_data"
    }
   ],
   "source": [
    "monthly_injuries_series.plot.bar()"
   ]
  }
 ],
 "metadata": {
  "kernelspec": {
   "display_name": "Python 3",
   "language": "python",
   "name": "python3"
  },
  "language_info": {
   "codemirror_mode": {
    "name": "ipython",
    "version": 3
   },
   "file_extension": ".py",
   "mimetype": "text/x-python",
   "name": "python",
   "nbconvert_exporter": "python",
   "pygments_lexer": "ipython3",
   "version": "3.7.3"
  }
 },
 "nbformat": 4,
 "nbformat_minor": 2
}
