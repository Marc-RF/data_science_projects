{
 "cells": [
  {
   "cell_type": "markdown",
   "metadata": {},
   "source": [
    "# Predicting the stock market\n",
    "\n",
    "## Introduction\n",
    "In this project, we'll be working with data from the [S&P500 Index](https://en.wikipedia.org/wiki/S%26P_500_Index). The S&P500 is a stock market index. Before we get into what an index is, we'll need to get into the basics of the stock market.\n",
    "\n",
    "Some companies are publicly traded, which means that anyone can buy and sell their shares on the open market. A share entitles the owner to some control over the direction of the company, and to some percentage (or share) of the earnings of the company. When you buy or sell shares, it's common to say that you're trading a stock.\n",
    "\n",
    "Stocks are traded daily, and the price can rise or fall from the beginning of a trading day to the end based on demand. Stocks that are in more in demand are traded more often than stocks of smaller companies.\n",
    "\n",
    "Indexes aggregate the prices of multiple stocks together, and allow you to see how the market as a whole is performing. For example, the Dow Jones Industrial Average aggregates the stock prices of 30 large American companies together. The S&P500 Index aggregates the stock prices of 500 large companies. When an index fund goes up or down, you can say that the underlying market or sector it represents is also going up or down. For example, if the Dow Jones Industrial Average price goes down one day, you can say that American stocks overall went down (ie, most American stocks went down in price).\n",
    "\n",
    "We'll be working with a csv file containing index prices. Each row in the file contains a daily record of the price of the S&P500 Index from **1950** to **2015**. We'll **train** the model with data from **1950-2012**, and try to make **predictions** from **2013-2015**.\n",
    "\n",
    "The dataset is stored in \"**sphist.csv**\".\n",
    "\n",
    "## Dataset columns\n",
    "\n",
    "- **Date**: The date of the record.\n",
    "- **Open**: The opening price of the day (when trading starts).\n",
    "- **High**: The highest trade price during the day.\n",
    "- **Low**: The lowest trade price during the day.\n",
    "- **Close**: The closing price for the day (when trading is finished).\n",
    "- **Volume**: The number of shares traded.\n",
    "- **Adj Close**: The daily closing price, adjusted retroactively to include any corporate actions. \n",
    "\n",
    "## Importing packages and reading datasets"
   ]
  },
  {
   "cell_type": "code",
   "execution_count": 1,
   "metadata": {},
   "outputs": [],
   "source": [
    "import pandas as pd\n",
    "from datetime import datetime\n",
    "from sklearn.linear_model import LinearRegression\n",
    "from sklearn.metrics import mean_absolute_error\n",
    "import itertools"
   ]
  },
  {
   "cell_type": "code",
   "execution_count": 2,
   "metadata": {},
   "outputs": [],
   "source": [
    "data = pd.read_csv(\"my_datasets/sphist.csv\")\n",
    "data[\"Date\"] = pd.to_datetime(data[\"Date\"])\n",
    "data.sort_values(by=\"Date\",inplace=True)"
   ]
  },
  {
   "cell_type": "markdown",
   "metadata": {},
   "source": [
    "## Exploring the data\n",
    "\n",
    "It's always interesting to explore some rows of the dataset:"
   ]
  },
  {
   "cell_type": "code",
   "execution_count": 3,
   "metadata": {},
   "outputs": [
    {
     "data": {
      "text/html": [
       "<div>\n",
       "<style scoped>\n",
       "    .dataframe tbody tr th:only-of-type {\n",
       "        vertical-align: middle;\n",
       "    }\n",
       "\n",
       "    .dataframe tbody tr th {\n",
       "        vertical-align: top;\n",
       "    }\n",
       "\n",
       "    .dataframe thead th {\n",
       "        text-align: right;\n",
       "    }\n",
       "</style>\n",
       "<table border=\"1\" class=\"dataframe\">\n",
       "  <thead>\n",
       "    <tr style=\"text-align: right;\">\n",
       "      <th></th>\n",
       "      <th>Date</th>\n",
       "      <th>Open</th>\n",
       "      <th>High</th>\n",
       "      <th>Low</th>\n",
       "      <th>Close</th>\n",
       "      <th>Volume</th>\n",
       "      <th>Adj Close</th>\n",
       "    </tr>\n",
       "  </thead>\n",
       "  <tbody>\n",
       "    <tr>\n",
       "      <th>16589</th>\n",
       "      <td>1950-01-03</td>\n",
       "      <td>16.66</td>\n",
       "      <td>16.66</td>\n",
       "      <td>16.66</td>\n",
       "      <td>16.66</td>\n",
       "      <td>1260000.0</td>\n",
       "      <td>16.66</td>\n",
       "    </tr>\n",
       "    <tr>\n",
       "      <th>16588</th>\n",
       "      <td>1950-01-04</td>\n",
       "      <td>16.85</td>\n",
       "      <td>16.85</td>\n",
       "      <td>16.85</td>\n",
       "      <td>16.85</td>\n",
       "      <td>1890000.0</td>\n",
       "      <td>16.85</td>\n",
       "    </tr>\n",
       "    <tr>\n",
       "      <th>16587</th>\n",
       "      <td>1950-01-05</td>\n",
       "      <td>16.93</td>\n",
       "      <td>16.93</td>\n",
       "      <td>16.93</td>\n",
       "      <td>16.93</td>\n",
       "      <td>2550000.0</td>\n",
       "      <td>16.93</td>\n",
       "    </tr>\n",
       "    <tr>\n",
       "      <th>16586</th>\n",
       "      <td>1950-01-06</td>\n",
       "      <td>16.98</td>\n",
       "      <td>16.98</td>\n",
       "      <td>16.98</td>\n",
       "      <td>16.98</td>\n",
       "      <td>2010000.0</td>\n",
       "      <td>16.98</td>\n",
       "    </tr>\n",
       "    <tr>\n",
       "      <th>16585</th>\n",
       "      <td>1950-01-09</td>\n",
       "      <td>17.08</td>\n",
       "      <td>17.08</td>\n",
       "      <td>17.08</td>\n",
       "      <td>17.08</td>\n",
       "      <td>2520000.0</td>\n",
       "      <td>17.08</td>\n",
       "    </tr>\n",
       "  </tbody>\n",
       "</table>\n",
       "</div>"
      ],
      "text/plain": [
       "            Date   Open   High    Low  Close     Volume  Adj Close\n",
       "16589 1950-01-03  16.66  16.66  16.66  16.66  1260000.0      16.66\n",
       "16588 1950-01-04  16.85  16.85  16.85  16.85  1890000.0      16.85\n",
       "16587 1950-01-05  16.93  16.93  16.93  16.93  2550000.0      16.93\n",
       "16586 1950-01-06  16.98  16.98  16.98  16.98  2010000.0      16.98\n",
       "16585 1950-01-09  17.08  17.08  17.08  17.08  2520000.0      17.08"
      ]
     },
     "execution_count": 3,
     "metadata": {},
     "output_type": "execute_result"
    }
   ],
   "source": [
    "data.head()"
   ]
  },
  {
   "cell_type": "code",
   "execution_count": 4,
   "metadata": {},
   "outputs": [
    {
     "data": {
      "text/html": [
       "<div>\n",
       "<style scoped>\n",
       "    .dataframe tbody tr th:only-of-type {\n",
       "        vertical-align: middle;\n",
       "    }\n",
       "\n",
       "    .dataframe tbody tr th {\n",
       "        vertical-align: top;\n",
       "    }\n",
       "\n",
       "    .dataframe thead th {\n",
       "        text-align: right;\n",
       "    }\n",
       "</style>\n",
       "<table border=\"1\" class=\"dataframe\">\n",
       "  <thead>\n",
       "    <tr style=\"text-align: right;\">\n",
       "      <th></th>\n",
       "      <th>Date</th>\n",
       "      <th>Open</th>\n",
       "      <th>High</th>\n",
       "      <th>Low</th>\n",
       "      <th>Close</th>\n",
       "      <th>Volume</th>\n",
       "      <th>Adj Close</th>\n",
       "    </tr>\n",
       "  </thead>\n",
       "  <tbody>\n",
       "    <tr>\n",
       "      <th>4</th>\n",
       "      <td>2015-12-01</td>\n",
       "      <td>2082.929932</td>\n",
       "      <td>2103.370117</td>\n",
       "      <td>2082.929932</td>\n",
       "      <td>2102.629883</td>\n",
       "      <td>3.712120e+09</td>\n",
       "      <td>2102.629883</td>\n",
       "    </tr>\n",
       "    <tr>\n",
       "      <th>3</th>\n",
       "      <td>2015-12-02</td>\n",
       "      <td>2101.709961</td>\n",
       "      <td>2104.270020</td>\n",
       "      <td>2077.110107</td>\n",
       "      <td>2079.510010</td>\n",
       "      <td>3.950640e+09</td>\n",
       "      <td>2079.510010</td>\n",
       "    </tr>\n",
       "    <tr>\n",
       "      <th>2</th>\n",
       "      <td>2015-12-03</td>\n",
       "      <td>2080.709961</td>\n",
       "      <td>2085.000000</td>\n",
       "      <td>2042.349976</td>\n",
       "      <td>2049.620117</td>\n",
       "      <td>4.306490e+09</td>\n",
       "      <td>2049.620117</td>\n",
       "    </tr>\n",
       "    <tr>\n",
       "      <th>1</th>\n",
       "      <td>2015-12-04</td>\n",
       "      <td>2051.239990</td>\n",
       "      <td>2093.840088</td>\n",
       "      <td>2051.239990</td>\n",
       "      <td>2091.689941</td>\n",
       "      <td>4.214910e+09</td>\n",
       "      <td>2091.689941</td>\n",
       "    </tr>\n",
       "    <tr>\n",
       "      <th>0</th>\n",
       "      <td>2015-12-07</td>\n",
       "      <td>2090.419922</td>\n",
       "      <td>2090.419922</td>\n",
       "      <td>2066.780029</td>\n",
       "      <td>2077.070068</td>\n",
       "      <td>4.043820e+09</td>\n",
       "      <td>2077.070068</td>\n",
       "    </tr>\n",
       "  </tbody>\n",
       "</table>\n",
       "</div>"
      ],
      "text/plain": [
       "        Date         Open         High          Low        Close  \\\n",
       "4 2015-12-01  2082.929932  2103.370117  2082.929932  2102.629883   \n",
       "3 2015-12-02  2101.709961  2104.270020  2077.110107  2079.510010   \n",
       "2 2015-12-03  2080.709961  2085.000000  2042.349976  2049.620117   \n",
       "1 2015-12-04  2051.239990  2093.840088  2051.239990  2091.689941   \n",
       "0 2015-12-07  2090.419922  2090.419922  2066.780029  2077.070068   \n",
       "\n",
       "         Volume    Adj Close  \n",
       "4  3.712120e+09  2102.629883  \n",
       "3  3.950640e+09  2079.510010  \n",
       "2  4.306490e+09  2049.620117  \n",
       "1  4.214910e+09  2091.689941  \n",
       "0  4.043820e+09  2077.070068  "
      ]
     },
     "execution_count": 4,
     "metadata": {},
     "output_type": "execute_result"
    }
   ],
   "source": [
    "data.tail()"
   ]
  },
  {
   "cell_type": "markdown",
   "metadata": {},
   "source": [
    "## Generating indicators\n",
    "\n",
    "Stock market data is sequential, and each observation comes a day after the previous observation. Thus, the observations are not all independent, and we can't treat them as such.\n",
    "\n",
    "This means you have to be extra careful to not inject \"future\" knowledge into past rows when you do training and prediction. Injecting future knowledge will make our model look good when you're training and testing it, but will make it fail in the real world.\n",
    "\n",
    "The time series nature of the data means that can generate indicators to make our model more accurate. For instance, we can create a new column that contains the average price of the last 10 trades for each row. This will incorporate information from multiple prior rows into one, and will make predictions much more accurate.\n",
    "\n",
    "Here are some indicators that are interesting to generate for each row:\n",
    "- The average price from the past 5 days.\n",
    "- The average price for the past 30 days.\n",
    "- The average price for the past 365 days.\n",
    "- The ratio between the average price for the past 5 days, and the average price for the past 365 days.\n",
    "- The standard deviation of the price over the past 5 days.\n",
    "- The standard deviation of the price over the past 365 days.\n",
    "- The ratio between the standard deviation for the past 5 days, and the standard deviation for the past 365 days.\n",
    "\n",
    "We'll assume that \"price\" means the \"Close\" column and days are trading days. "
   ]
  },
  {
   "cell_type": "code",
   "execution_count": 5,
   "metadata": {},
   "outputs": [],
   "source": [
    "def average_days_column(df, days):\n",
    "    new_column = \"AVG_\" + str(days)\n",
    "    new_values = df[\"Close\"].rolling(days).mean()\n",
    "    new_values = new_values.shift(periods=1)\n",
    "    df[new_column] = new_values\n",
    "    return df\n",
    "\n",
    "def deviation_days_column(df, days):\n",
    "    new_column = \"STD_\" + str(days)\n",
    "    new_values = df[\"Close\"].rolling(days).std()\n",
    "    new_values = new_values.shift(periods=1)\n",
    "    df[new_column] = new_values\n",
    "    return df"
   ]
  },
  {
   "cell_type": "code",
   "execution_count": 6,
   "metadata": {},
   "outputs": [],
   "source": [
    "data = average_days_column(data,5)\n",
    "data = average_days_column(data,30)\n",
    "data = average_days_column(data,365)\n",
    "data[\"AVG_RATIO\"] = data[\"AVG_5\"]/data[\"AVG_365\"]\n",
    "data = deviation_days_column(data,5)\n",
    "data = deviation_days_column(data,365)\n",
    "data[\"STD_RATIO\"] = data[\"STD_5\"]/data[\"STD_365\"]"
   ]
  },
  {
   "cell_type": "code",
   "execution_count": 7,
   "metadata": {},
   "outputs": [],
   "source": [
    "new_features = [\"AVG_5\",\"AVG_30\",\"AVG_365\",\"AVG_RATIO\",\n",
    "                \"STD_5\",\"STD_365\",\"STD_RATIO\"]"
   ]
  },
  {
   "cell_type": "markdown",
   "metadata": {},
   "source": [
    "## Splitting up the data\n",
    "\n",
    "Since we're computing indicators that use historical data, there are some rows where there isn't enough historical data to generate them. Some of the indicators use 365 days of historical data, and the dataset starts on 1950-01-03. Thus, any rows that fall before 1951-01-03 don't have enough historical data to compute all the indicators. We'll need to remove these rows before you split the data."
   ]
  },
  {
   "cell_type": "code",
   "execution_count": 8,
   "metadata": {},
   "outputs": [
    {
     "name": "stdout",
     "output_type": "stream",
     "text": [
      "Initial rows: 16590\n",
      "Final rows: 16225\n"
     ]
    }
   ],
   "source": [
    "print(\"Initial rows:\", data.shape[0])\n",
    "\n",
    "data = data.dropna(axis = 0)\n",
    "\n",
    "print(\"Final rows:\", data.shape[0])"
   ]
  },
  {
   "cell_type": "code",
   "execution_count": 9,
   "metadata": {},
   "outputs": [
    {
     "name": "stdout",
     "output_type": "stream",
     "text": [
      "Train rows: 15486\n",
      "Test rows: 739\n"
     ]
    }
   ],
   "source": [
    "train = data[data[\"Date\"] < datetime(year=2013, month=1, day=1)]\n",
    "test = data[data[\"Date\"] >= datetime(year=2013, month=1, day=1)]\n",
    "\n",
    "print(\"Train rows:\", train.shape[0])\n",
    "print(\"Test rows:\", test.shape[0])"
   ]
  },
  {
   "cell_type": "markdown",
   "metadata": {},
   "source": [
    "## Making predictions\n",
    "\n",
    "We can now define an error metric, train a model using the train data and make predictions on the test data.\n",
    "\n",
    "We'll use Mean Absolute Error, also called MAE, as an error metric, because it will show you how \"close\" we were to the price in intuitive terms. Mean Squared Error, or MSE, is an alternative that is more commonly used, but makes it harder to intuitively tell how far off we are from the true price because it squares the error."
   ]
  },
  {
   "cell_type": "code",
   "execution_count": 10,
   "metadata": {},
   "outputs": [],
   "source": [
    "def calculate_mae(features_comb,target,train,test):\n",
    "    results_dict = {}\n",
    "    for combination in features_comb:\n",
    "        lr = LinearRegression()\n",
    "        lr.fit(train[combination],train[target])\n",
    "        predictions = lr.predict(test[combination])\n",
    "        mae = mean_absolute_error(predictions,test[target])\n",
    "        combination_name = \", \".join(c for c in combination)\n",
    "        results_dict[combination_name] = mae\n",
    "    return pd.Series(results_dict)"
   ]
  },
  {
   "cell_type": "code",
   "execution_count": 11,
   "metadata": {},
   "outputs": [],
   "source": [
    "target = \"Close\"\n",
    "features_comb = []\n",
    "\n",
    "#Use combinations module to get all features combination\n",
    "for L in range(1, len(new_features)+1):\n",
    "    for subset in itertools.combinations(new_features, L):\n",
    "        features_comb.append(list(subset))"
   ]
  },
  {
   "cell_type": "code",
   "execution_count": 12,
   "metadata": {},
   "outputs": [
    {
     "name": "stdout",
     "output_type": "stream",
     "text": [
      "AVG_5, AVG_365, AVG_RATIO, STD_5, STD_RATIO    16.090330\n",
      "AVG_5, AVG_365, AVG_RATIO, STD_5               16.093178\n",
      "AVG_5, AVG_365, STD_5, STD_RATIO               16.093650\n",
      "AVG_5, AVG_365, STD_5                          16.094213\n",
      "AVG_5, AVG_365, AVG_RATIO, STD_RATIO           16.100016\n",
      "AVG_5, AVG_RATIO, STD_5                        16.113020\n",
      "AVG_5, AVG_365, STD_RATIO                      16.113100\n",
      "AVG_5, AVG_RATIO, STD_5, STD_RATIO             16.114180\n",
      "AVG_5, STD_5                                   16.118299\n",
      "AVG_5, STD_5, STD_RATIO                        16.118897\n",
      "dtype: float64\n"
     ]
    }
   ],
   "source": [
    "features_mae = calculate_mae(features_comb,target,train,test)\n",
    "features_mae = features_mae.sort_values()\n",
    "\n",
    "print(features_mae.head(10))"
   ]
  },
  {
   "cell_type": "markdown",
   "metadata": {},
   "source": [
    "## Conclusion\n",
    "\n",
    "According to the results, there is no combination with an outstanding accuracy. Instead, the minimum mean absolute error stays at **16**.\n",
    "\n",
    "Taking a look on the numbers, a good approach could be to take the model with the indicators \"AVG_5\" and \"STD_5\". In this case, we get a mae value (16.118299) close to the maximum by just using 2 features.\n",
    "\n",
    "However, considering that daily changes could be less than 16, we should think in new indicators and try to find lower mae values."
   ]
  }
 ],
 "metadata": {
  "kernelspec": {
   "display_name": "Python 3",
   "language": "python",
   "name": "python3"
  },
  "language_info": {
   "codemirror_mode": {
    "name": "ipython",
    "version": 3
   },
   "file_extension": ".py",
   "mimetype": "text/x-python",
   "name": "python",
   "nbconvert_exporter": "python",
   "pygments_lexer": "ipython3",
   "version": "3.7.3"
  }
 },
 "nbformat": 4,
 "nbformat_minor": 2
}
